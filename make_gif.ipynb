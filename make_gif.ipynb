{
 "cells": [
  {
   "cell_type": "code",
   "execution_count": 3,
   "id": "8ffdf75a",
   "metadata": {},
   "outputs": [],
   "source": [
    "from PIL import Image\n",
    "\n",
    "\n",
    "\n",
    "image = []\n",
    "\n",
    "for i in range(12):\n",
    "    for j in range(11):\n",
    "        file_name = f'results/Start_point{i+1}/dataset_6_opt_wire_{j}.png'\n",
    "        image.append(Image.open(file_name))\n",
    "\n",
    "image[0].save(\n",
    "    'dataset_6_opt_wire.gif', \n",
    "    save_all=True, \n",
    "    append_images=image[1:],\n",
    "    duration=500,  # 各フレーム 0.5sec\n",
    "    loop=0,  # 無限ループ\n",
    ")\n"
   ]
  },
  {
   "cell_type": "code",
   "execution_count": null,
   "id": "6219a4b6",
   "metadata": {},
   "outputs": [],
   "source": []
  }
 ],
 "metadata": {
  "kernelspec": {
   "display_name": "bayes_adap",
   "language": "python",
   "name": "python3"
  },
  "language_info": {
   "codemirror_mode": {
    "name": "ipython",
    "version": 3
   },
   "file_extension": ".py",
   "mimetype": "text/x-python",
   "name": "python",
   "nbconvert_exporter": "python",
   "pygments_lexer": "ipython3",
   "version": "3.9.6"
  }
 },
 "nbformat": 4,
 "nbformat_minor": 5
}
